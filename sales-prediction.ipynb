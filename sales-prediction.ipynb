{
 "cells": [
  {
   "cell_type": "code",
   "execution_count": 1,
   "id": "c196d426",
   "metadata": {
    "_cell_guid": "b1076dfc-b9ad-4769-8c92-a6c4dae69d19",
    "_uuid": "8f2839f25d086af736a60e9eeb907d3b93b6e0e5",
    "execution": {
     "iopub.execute_input": "2024-03-19T15:29:50.775041Z",
     "iopub.status.busy": "2024-03-19T15:29:50.774502Z",
     "iopub.status.idle": "2024-03-19T15:29:52.067272Z",
     "shell.execute_reply": "2024-03-19T15:29:52.066034Z"
    },
    "papermill": {
     "duration": 1.308629,
     "end_time": "2024-03-19T15:29:52.070067",
     "exception": false,
     "start_time": "2024-03-19T15:29:50.761438",
     "status": "completed"
    },
    "tags": []
   },
   "outputs": [
    {
     "name": "stdout",
     "output_type": "stream",
     "text": [
      "/kaggle/input/sales/advertising.csv\n"
     ]
    }
   ],
   "source": [
    "# This Python 3 environment comes with many helpful analytics libraries installed\n",
    "# It is defined by the kaggle/python Docker image: https://github.com/kaggle/docker-python\n",
    "# For example, here's several helpful packages to load\n",
    "\n",
    "import numpy as np # linear algebra\n",
    "import pandas as pd # data processing, CSV file I/O (e.g. pd.read_csv)\n",
    "\n",
    "# Input data files are available in the read-only \"../input/\" directory\n",
    "# For example, running this (by clicking run or pressing Shift+Enter) will list all files under the input directory\n",
    "\n",
    "import os\n",
    "for dirname, _, filenames in os.walk('/kaggle/input'):\n",
    "    for filename in filenames:\n",
    "        print(os.path.join(dirname, filename))\n",
    "\n",
    "# You can write up to 20GB to the current directory (/kaggle/working/) that gets preserved as output when you create a version using \"Save & Run All\" \n",
    "# You can also write temporary files to /kaggle/temp/, but they won't be saved outside of the current session"
   ]
  },
  {
   "cell_type": "code",
   "execution_count": 2,
   "id": "2eb42e7a",
   "metadata": {
    "execution": {
     "iopub.execute_input": "2024-03-19T15:29:52.093912Z",
     "iopub.status.busy": "2024-03-19T15:29:52.092980Z",
     "iopub.status.idle": "2024-03-19T15:29:52.118983Z",
     "shell.execute_reply": "2024-03-19T15:29:52.117067Z"
    },
    "papermill": {
     "duration": 0.042103,
     "end_time": "2024-03-19T15:29:52.122346",
     "exception": false,
     "start_time": "2024-03-19T15:29:52.080243",
     "status": "completed"
    },
    "tags": []
   },
   "outputs": [],
   "source": [
    "sales = pd.read_csv(\"/kaggle/input/sales/advertising.csv\")"
   ]
  },
  {
   "cell_type": "code",
   "execution_count": 3,
   "id": "0ca16c94",
   "metadata": {
    "execution": {
     "iopub.execute_input": "2024-03-19T15:29:52.147107Z",
     "iopub.status.busy": "2024-03-19T15:29:52.146683Z",
     "iopub.status.idle": "2024-03-19T15:29:52.175167Z",
     "shell.execute_reply": "2024-03-19T15:29:52.173440Z"
    },
    "papermill": {
     "duration": 0.045131,
     "end_time": "2024-03-19T15:29:52.178417",
     "exception": false,
     "start_time": "2024-03-19T15:29:52.133286",
     "status": "completed"
    },
    "tags": []
   },
   "outputs": [
    {
     "data": {
      "text/html": [
       "<div>\n",
       "<style scoped>\n",
       "    .dataframe tbody tr th:only-of-type {\n",
       "        vertical-align: middle;\n",
       "    }\n",
       "\n",
       "    .dataframe tbody tr th {\n",
       "        vertical-align: top;\n",
       "    }\n",
       "\n",
       "    .dataframe thead th {\n",
       "        text-align: right;\n",
       "    }\n",
       "</style>\n",
       "<table border=\"1\" class=\"dataframe\">\n",
       "  <thead>\n",
       "    <tr style=\"text-align: right;\">\n",
       "      <th></th>\n",
       "      <th>TV</th>\n",
       "      <th>Radio</th>\n",
       "      <th>Newspaper</th>\n",
       "      <th>Sales</th>\n",
       "    </tr>\n",
       "  </thead>\n",
       "  <tbody>\n",
       "    <tr>\n",
       "      <th>0</th>\n",
       "      <td>230.1</td>\n",
       "      <td>37.8</td>\n",
       "      <td>69.2</td>\n",
       "      <td>22.1</td>\n",
       "    </tr>\n",
       "    <tr>\n",
       "      <th>1</th>\n",
       "      <td>44.5</td>\n",
       "      <td>39.3</td>\n",
       "      <td>45.1</td>\n",
       "      <td>10.4</td>\n",
       "    </tr>\n",
       "    <tr>\n",
       "      <th>2</th>\n",
       "      <td>17.2</td>\n",
       "      <td>45.9</td>\n",
       "      <td>69.3</td>\n",
       "      <td>12.0</td>\n",
       "    </tr>\n",
       "    <tr>\n",
       "      <th>3</th>\n",
       "      <td>151.5</td>\n",
       "      <td>41.3</td>\n",
       "      <td>58.5</td>\n",
       "      <td>16.5</td>\n",
       "    </tr>\n",
       "    <tr>\n",
       "      <th>4</th>\n",
       "      <td>180.8</td>\n",
       "      <td>10.8</td>\n",
       "      <td>58.4</td>\n",
       "      <td>17.9</td>\n",
       "    </tr>\n",
       "  </tbody>\n",
       "</table>\n",
       "</div>"
      ],
      "text/plain": [
       "      TV  Radio  Newspaper  Sales\n",
       "0  230.1   37.8       69.2   22.1\n",
       "1   44.5   39.3       45.1   10.4\n",
       "2   17.2   45.9       69.3   12.0\n",
       "3  151.5   41.3       58.5   16.5\n",
       "4  180.8   10.8       58.4   17.9"
      ]
     },
     "execution_count": 3,
     "metadata": {},
     "output_type": "execute_result"
    }
   ],
   "source": [
    "sales.head()"
   ]
  },
  {
   "cell_type": "code",
   "execution_count": 4,
   "id": "8d4ba954",
   "metadata": {
    "execution": {
     "iopub.execute_input": "2024-03-19T15:29:52.204112Z",
     "iopub.status.busy": "2024-03-19T15:29:52.203683Z",
     "iopub.status.idle": "2024-03-19T15:29:52.241168Z",
     "shell.execute_reply": "2024-03-19T15:29:52.238991Z"
    },
    "papermill": {
     "duration": 0.055269,
     "end_time": "2024-03-19T15:29:52.244254",
     "exception": false,
     "start_time": "2024-03-19T15:29:52.188985",
     "status": "completed"
    },
    "tags": []
   },
   "outputs": [
    {
     "name": "stdout",
     "output_type": "stream",
     "text": [
      "<class 'pandas.core.frame.DataFrame'>\n",
      "RangeIndex: 200 entries, 0 to 199\n",
      "Data columns (total 4 columns):\n",
      " #   Column     Non-Null Count  Dtype  \n",
      "---  ------     --------------  -----  \n",
      " 0   TV         200 non-null    float64\n",
      " 1   Radio      200 non-null    float64\n",
      " 2   Newspaper  200 non-null    float64\n",
      " 3   Sales      200 non-null    float64\n",
      "dtypes: float64(4)\n",
      "memory usage: 6.4 KB\n"
     ]
    }
   ],
   "source": [
    "sales.info()"
   ]
  },
  {
   "cell_type": "code",
   "execution_count": 5,
   "id": "0809111f",
   "metadata": {
    "execution": {
     "iopub.execute_input": "2024-03-19T15:29:52.269692Z",
     "iopub.status.busy": "2024-03-19T15:29:52.268962Z",
     "iopub.status.idle": "2024-03-19T15:29:52.278156Z",
     "shell.execute_reply": "2024-03-19T15:29:52.276926Z"
    },
    "papermill": {
     "duration": 0.026563,
     "end_time": "2024-03-19T15:29:52.281286",
     "exception": false,
     "start_time": "2024-03-19T15:29:52.254723",
     "status": "completed"
    },
    "tags": []
   },
   "outputs": [
    {
     "data": {
      "text/plain": [
       "(200, 4)"
      ]
     },
     "execution_count": 5,
     "metadata": {},
     "output_type": "execute_result"
    }
   ],
   "source": [
    "sales.shape"
   ]
  },
  {
   "cell_type": "code",
   "execution_count": 6,
   "id": "f4b140ae",
   "metadata": {
    "execution": {
     "iopub.execute_input": "2024-03-19T15:29:52.307913Z",
     "iopub.status.busy": "2024-03-19T15:29:52.306791Z",
     "iopub.status.idle": "2024-03-19T15:29:52.322321Z",
     "shell.execute_reply": "2024-03-19T15:29:52.320617Z"
    },
    "papermill": {
     "duration": 0.033048,
     "end_time": "2024-03-19T15:29:52.325305",
     "exception": false,
     "start_time": "2024-03-19T15:29:52.292257",
     "status": "completed"
    },
    "tags": []
   },
   "outputs": [
    {
     "data": {
      "text/plain": [
       "TV           0\n",
       "Radio        0\n",
       "Newspaper    0\n",
       "Sales        0\n",
       "dtype: int64"
      ]
     },
     "execution_count": 6,
     "metadata": {},
     "output_type": "execute_result"
    }
   ],
   "source": [
    "sales.isnull().sum() # Checkiing of any null values"
   ]
  },
  {
   "cell_type": "code",
   "execution_count": 7,
   "id": "c2233c24",
   "metadata": {
    "execution": {
     "iopub.execute_input": "2024-03-19T15:29:52.351033Z",
     "iopub.status.busy": "2024-03-19T15:29:52.350577Z",
     "iopub.status.idle": "2024-03-19T15:29:54.537104Z",
     "shell.execute_reply": "2024-03-19T15:29:54.535857Z"
    },
    "papermill": {
     "duration": 2.2031,
     "end_time": "2024-03-19T15:29:54.540473",
     "exception": false,
     "start_time": "2024-03-19T15:29:52.337373",
     "status": "completed"
    },
    "tags": []
   },
   "outputs": [
    {
     "data": {
      "text/plain": [
       "<Axes: xlabel='TV'>"
      ]
     },
     "execution_count": 7,
     "metadata": {},
     "output_type": "execute_result"
    },
    {
     "data": {
      "image/png": "[encoded data removed]",
      "text/plain": [
       "<Figure size 640x480 with 1 Axes>"
      ]
     },
     "metadata": {},
     "output_type": "display_data"
    }
   ],
   "source": [
    "import seaborn as sns # Checking of any outliers\n",
    "sns.boxplot(x = sales[\"TV\"])"
   ]
  },
  {
   "cell_type": "code",
   "execution_count": 8,
   "id": "9ff98579",
   "metadata": {
    "execution": {
     "iopub.execute_input": "2024-03-19T15:29:54.567140Z",
     "iopub.status.busy": "2024-03-19T15:29:54.566722Z",
     "iopub.status.idle": "2024-03-19T15:29:54.915013Z",
     "shell.execute_reply": "2024-03-19T15:29:54.913710Z"
    },
    "papermill": {
     "duration": 0.365505,
     "end_time": "2024-03-19T15:29:54.918587",
     "exception": false,
     "start_time": "2024-03-19T15:29:54.553082",
     "status": "completed"
    },
    "tags": []
   },
   "outputs": [
    {
     "data": {
      "text/plain": [
       "<Axes: xlabel='Newspaper'>"
      ]
     },
     "execution_count": 8,
     "metadata": {},
     "output_type": "execute_result"
    },
    {
     "data": {
      "image/png": "[encoded data removed]",
      "text/plain": [
       "<Figure size 640x480 with 1 Axes>"
      ]
     },
     "metadata": {},
     "output_type": "display_data"
    }
   ],
   "source": [
    "sns.boxplot(x = sales[\"Newspaper\"])"
   ]
  },
  {
   "cell_type": "code",
   "execution_count": 9,
   "id": "c8631844",
   "metadata": {
    "execution": {
     "iopub.execute_input": "2024-03-19T15:29:54.944497Z",
     "iopub.status.busy": "2024-03-19T15:29:54.944049Z",
     "iopub.status.idle": "2024-03-19T15:29:55.180345Z",
     "shell.execute_reply": "2024-03-19T15:29:55.178763Z"
    },
    "papermill": {
     "duration": 0.253718,
     "end_time": "2024-03-19T15:29:55.183651",
     "exception": false,
     "start_time": "2024-03-19T15:29:54.929933",
     "status": "completed"
    },
    "tags": []
   },
   "outputs": [
    {
     "data": {
      "text/plain": [
       "<Axes: xlabel='Radio'>"
      ]
     },
     "execution_count": 9,
     "metadata": {},
     "output_type": "execute_result"
    },
    {
     "data": {
      "image/png": "[encoded data removed]",
      "text/plain": [
       "<Figure size 640x480 with 1 Axes>"
      ]
     },
     "metadata": {},
     "output_type": "display_data"
    }
   ],
   "source": [
    "sns.boxplot(x = sales[\"Radio\"])"
   ]
  },
  {
   "cell_type": "code",
   "execution_count": 10,
   "id": "f7d06bb9",
   "metadata": {
    "execution": {
     "iopub.execute_input": "2024-03-19T15:29:55.209226Z",
     "iopub.status.busy": "2024-03-19T15:29:55.208819Z",
     "iopub.status.idle": "2024-03-19T15:29:55.437822Z",
     "shell.execute_reply": "2024-03-19T15:29:55.436403Z"
    },
    "papermill": {
     "duration": 0.244737,
     "end_time": "2024-03-19T15:29:55.440502",
     "exception": false,
     "start_time": "2024-03-19T15:29:55.195765",
     "status": "completed"
    },
    "tags": []
   },
   "outputs": [
    {
     "data": {
      "text/plain": [
       "<Axes: xlabel='Sales'>"
      ]
     },
     "execution_count": 10,
     "metadata": {},
     "output_type": "execute_result"
    },
    {
     "data": {
      "image/png": "[encoded data removed]",
      "text/plain": [
       "<Figure size 640x480 with 1 Axes>"
      ]
     },
     "metadata": {},
     "output_type": "display_data"
    }
   ],
   "source": [
    "sns.boxplot(x = sales[\"Sales\"])"
   ]
  },
  {
   "cell_type": "markdown",
   "id": "f9ff9bda",
   "metadata": {
    "papermill": {
     "duration": 0.0116,
     "end_time": "2024-03-19T15:29:55.464206",
     "exception": false,
     "start_time": "2024-03-19T15:29:55.452606",
     "status": "completed"
    },
    "tags": []
   },
   "source": [
    "### As we can see that there are not any outliers present."
   ]
  },
  {
   "cell_type": "code",
   "execution_count": 11,
   "id": "27a3c9e2",
   "metadata": {
    "execution": {
     "iopub.execute_input": "2024-03-19T15:29:55.491322Z",
     "iopub.status.busy": "2024-03-19T15:29:55.490935Z",
     "iopub.status.idle": "2024-03-19T15:29:56.453566Z",
     "shell.execute_reply": "2024-03-19T15:29:56.452365Z"
    },
    "papermill": {
     "duration": 0.97926,
     "end_time": "2024-03-19T15:29:56.456520",
     "exception": false,
     "start_time": "2024-03-19T15:29:55.477260",
     "status": "completed"
    },
    "tags": []
   },
   "outputs": [
    {
     "data": {
      "text/plain": [
       "<seaborn.axisgrid.PairGrid at 0x7fb89be61210>"
      ]
     },
     "execution_count": 11,
     "metadata": {},
     "output_type": "execute_result"
    },
    {
     "data": {
      "image/png": "[encoded data removed]",
      "text/plain": [
       "<Figure size 750x250 with 3 Axes>"
      ]
     },
     "metadata": {},
     "output_type": "display_data"
    }
   ],
   "source": [
    "sns.pairplot(sales , x_vars = ['TV' , \"Radio\" , \"Newspaper\"], y_vars = \"Sales\" , kind = 'scatter')"
   ]
  },
  {
   "cell_type": "code",
   "execution_count": 12,
   "id": "13edf5b8",
   "metadata": {
    "execution": {
     "iopub.execute_input": "2024-03-19T15:29:56.484564Z",
     "iopub.status.busy": "2024-03-19T15:29:56.483806Z",
     "iopub.status.idle": "2024-03-19T15:29:56.493885Z",
     "shell.execute_reply": "2024-03-19T15:29:56.492734Z"
    },
    "papermill": {
     "duration": 0.027492,
     "end_time": "2024-03-19T15:29:56.496792",
     "exception": false,
     "start_time": "2024-03-19T15:29:56.469300",
     "status": "completed"
    },
    "tags": []
   },
   "outputs": [
    {
     "data": {
      "text/plain": [
       "TV           0.901208\n",
       "Radio        0.349631\n",
       "Newspaper    0.157960\n",
       "Sales        1.000000\n",
       "Name: Sales, dtype: float64"
      ]
     },
     "execution_count": 12,
     "metadata": {},
     "output_type": "execute_result"
    }
   ],
   "source": [
    "sales.corr()[\"Sales\"] # Here feature TV is highly correlated with sales"
   ]
  },
  {
   "cell_type": "code",
   "execution_count": 13,
   "id": "e05f9b90",
   "metadata": {
    "execution": {
     "iopub.execute_input": "2024-03-19T15:29:56.528398Z",
     "iopub.status.busy": "2024-03-19T15:29:56.527953Z",
     "iopub.status.idle": "2024-03-19T15:29:56.938012Z",
     "shell.execute_reply": "2024-03-19T15:29:56.936741Z"
    },
    "papermill": {
     "duration": 0.429767,
     "end_time": "2024-03-19T15:29:56.941778",
     "exception": false,
     "start_time": "2024-03-19T15:29:56.512011",
     "status": "completed"
    },
    "tags": []
   },
   "outputs": [
    {
     "data": {
      "text/plain": [
       "<Axes: >"
      ]
     },
     "execution_count": 13,
     "metadata": {},
     "output_type": "execute_result"
    },
    {
     "data": {
      "image/png": "[encoded data removed]",
      "text/plain": [
       "<Figure size 640x480 with 2 Axes>"
      ]
     },
     "metadata": {},
     "output_type": "display_data"
    }
   ],
   "source": [
    "sns.heatmap(sales.corr(), cmap=\"YlGnBu\", annot = True)"
   ]
  },
  {
   "cell_type": "code",
   "execution_count": 14,
   "id": "0537090f",
   "metadata": {
    "execution": {
     "iopub.execute_input": "2024-03-19T15:29:56.973849Z",
     "iopub.status.busy": "2024-03-19T15:29:56.973416Z",
     "iopub.status.idle": "2024-03-19T15:29:56.980484Z",
     "shell.execute_reply": "2024-03-19T15:29:56.978740Z"
    },
    "papermill": {
     "duration": 0.02662,
     "end_time": "2024-03-19T15:29:56.984189",
     "exception": false,
     "start_time": "2024-03-19T15:29:56.957569",
     "status": "completed"
    },
    "tags": []
   },
   "outputs": [],
   "source": [
    "feature = sales.drop('Sales', axis=1)\n",
    "target = sales[\"Sales\"]"
   ]
  },
  {
   "cell_type": "code",
   "execution_count": 15,
   "id": "fa2a206f",
   "metadata": {
    "execution": {
     "iopub.execute_input": "2024-03-19T15:29:57.014376Z",
     "iopub.status.busy": "2024-03-19T15:29:57.013938Z",
     "iopub.status.idle": "2024-03-19T15:29:57.377596Z",
     "shell.execute_reply": "2024-03-19T15:29:57.376289Z"
    },
    "papermill": {
     "duration": 0.383269,
     "end_time": "2024-03-19T15:29:57.381300",
     "exception": false,
     "start_time": "2024-03-19T15:29:56.998031",
     "status": "completed"
    },
    "tags": []
   },
   "outputs": [],
   "source": [
    "from sklearn.model_selection import train_test_split\n",
    "X_train, X_test, y_train, y_test = train_test_split(feature, target, test_size = 0.3, random_state = 42)"
   ]
  },
  {
   "cell_type": "markdown",
   "id": "53eafc8c",
   "metadata": {
    "papermill": {
     "duration": 0.01323,
     "end_time": "2024-03-19T15:29:57.408614",
     "exception": false,
     "start_time": "2024-03-19T15:29:57.395384",
     "status": "completed"
    },
    "tags": []
   },
   "source": [
    "## Random Forest Classifier"
   ]
  },
  {
   "cell_type": "code",
   "execution_count": 16,
   "id": "61e5ea9b",
   "metadata": {
    "execution": {
     "iopub.execute_input": "2024-03-19T15:29:57.438281Z",
     "iopub.status.busy": "2024-03-19T15:29:57.437842Z",
     "iopub.status.idle": "2024-03-19T15:29:58.040152Z",
     "shell.execute_reply": "2024-03-19T15:29:58.038854Z"
    },
    "papermill": {
     "duration": 0.620351,
     "end_time": "2024-03-19T15:29:58.042967",
     "exception": false,
     "start_time": "2024-03-19T15:29:57.422616",
     "status": "completed"
    },
    "tags": []
   },
   "outputs": [
    {
     "data": {
      "text/html": [
       "<style>#sk-container-id-1 {color: black;background-color: white;}#sk-container-id-1 pre{padding: 0;}#sk-container-id-1 div.sk-toggleable {background-color: white;}#sk-container-id-1 label.sk-toggleable__label {cursor: pointer;display: block;width: 100%;margin-bottom: 0;padding: 0.3em;box-sizing: border-box;text-align: center;}#sk-container-id-1 label.sk-toggleable__label-arrow:before {content: \"▸\";float: left;margin-right: 0.25em;color: #696969;}#sk-container-id-1 label.sk-toggleable__label-arrow:hover:before {color: black;}#sk-container-id-1 div.sk-estimator:hover label.sk-toggleable__label-arrow:before {color: black;}#sk-container-id-1 div.sk-toggleable__content {max-height: 0;max-width: 0;overflow: hidden;text-align: left;background-color: #f0f8ff;}#sk-container-id-1 div.sk-toggleable__content pre {margin: 0.2em;color: black;border-radius: 0.25em;background-color: #f0f8ff;}#sk-container-id-1 input.sk-toggleable__control:checked~div.sk-toggleable__content {max-height: 200px;max-width: 100%;overflow: auto;}#sk-container-id-1 input.sk-toggleable__control:checked~label.sk-toggleable__label-arrow:before {content: \"▾\";}#sk-container-id-1 div.sk-estimator input.sk-toggleable__control:checked~label.sk-toggleable__label {background-color: #d4ebff;}#sk-container-id-1 div.sk-label input.sk-toggleable__control:checked~label.sk-toggleable__label {background-color: #d4ebff;}#sk-container-id-1 input.sk-hidden--visually {border: 0;clip: rect(1px 1px 1px 1px);clip: rect(1px, 1px, 1px, 1px);height: 1px;margin: -1px;overflow: hidden;padding: 0;position: absolute;width: 1px;}#sk-container-id-1 div.sk-estimator {font-family: monospace;background-color: #f0f8ff;border: 1px dotted black;border-radius: 0.25em;box-sizing: border-box;margin-bottom: 0.5em;}#sk-container-id-1 div.sk-estimator:hover {background-color: #d4ebff;}#sk-container-id-1 div.sk-parallel-item::after {content: \"\";width: 100%;border-bottom: 1px solid gray;flex-grow: 1;}#sk-container-id-1 div.sk-label:hover label.sk-toggleable__label {background-color: #d4ebff;}#sk-container-id-1 div.sk-serial::before {content: \"\";position: absolute;border-left: 1px solid gray;box-sizing: border-box;top: 0;bottom: 0;left: 50%;z-index: 0;}#sk-container-id-1 div.sk-serial {display: flex;flex-direction: column;align-items: center;background-color: white;padding-right: 0.2em;padding-left: 0.2em;position: relative;}#sk-container-id-1 div.sk-item {position: relative;z-index: 1;}#sk-container-id-1 div.sk-parallel {display: flex;align-items: stretch;justify-content: center;background-color: white;position: relative;}#sk-container-id-1 div.sk-item::before, #sk-container-id-1 div.sk-parallel-item::before {content: \"\";position: absolute;border-left: 1px solid gray;box-sizing: border-box;top: 0;bottom: 0;left: 50%;z-index: -1;}#sk-container-id-1 div.sk-parallel-item {display: flex;flex-direction: column;z-index: 1;position: relative;background-color: white;}#sk-container-id-1 div.sk-parallel-item:first-child::after {align-self: flex-end;width: 50%;}#sk-container-id-1 div.sk-parallel-item:last-child::after {align-self: flex-start;width: 50%;}#sk-container-id-1 div.sk-parallel-item:only-child::after {width: 0;}#sk-container-id-1 div.sk-dashed-wrapped {border: 1px dashed gray;margin: 0 0.4em 0.5em 0.4em;box-sizing: border-box;padding-bottom: 0.4em;background-color: white;}#sk-container-id-1 div.sk-label label {font-family: monospace;font-weight: bold;display: inline-block;line-height: 1.2em;}#sk-container-id-1 div.sk-label-container {text-align: center;}#sk-container-id-1 div.sk-container {/* jupyter's `normalize.less` sets `[hidden] { display: none; }` but bootstrap.min.css set `[hidden] { display: none !important; }` so we also need the `!important` here to be able to override the default hidden behavior on the sphinx rendered scikit-learn.org. See: https://github.com/scikit-learn/scikit-learn/issues/21755 */display: inline-block !important;position: relative;}#sk-container-id-1 div.sk-text-repr-fallback {display: none;}</style><div id=\"sk-container-id-1\" class=\"sk-top-container\"><div class=\"sk-text-repr-fallback\"><pre>RandomForestRegressor(random_state=42)</pre><b>In a Jupyter environment, please rerun this cell to show the HTML representation or trust the notebook. <br />On GitHub, the HTML representation is unable to render, please try loading this page with nbviewer.org.</b></div><div class=\"sk-container\" hidden><div class=\"sk-item\"><div class=\"sk-estimator sk-toggleable\"><input class=\"sk-toggleable__control sk-hidden--visually\" id=\"sk-estimator-id-1\" type=\"checkbox\" checked><label for=\"sk-estimator-id-1\" class=\"sk-toggleable__label sk-toggleable__label-arrow\">RandomForestRegressor</label><div class=\"sk-toggleable__content\"><pre>RandomForestRegressor(random_state=42)</pre></div></div></div></div></div>"
      ],
      "text/plain": [
       "RandomForestRegressor(random_state=42)"
      ]
     },
     "execution_count": 16,
     "metadata": {},
     "output_type": "execute_result"
    }
   ],
   "source": [
    "from sklearn.ensemble import RandomForestRegressor\n",
    "rfr = RandomForestRegressor(n_estimators=100, random_state=42)\n",
    "rfr.fit(X_train, y_train)"
   ]
  },
  {
   "cell_type": "code",
   "execution_count": 17,
   "id": "e22b48e1",
   "metadata": {
    "execution": {
     "iopub.execute_input": "2024-03-19T15:29:58.075097Z",
     "iopub.status.busy": "2024-03-19T15:29:58.074662Z",
     "iopub.status.idle": "2024-03-19T15:29:58.092298Z",
     "shell.execute_reply": "2024-03-19T15:29:58.090989Z"
    },
    "papermill": {
     "duration": 0.03775,
     "end_time": "2024-03-19T15:29:58.095231",
     "exception": false,
     "start_time": "2024-03-19T15:29:58.057481",
     "status": "completed"
    },
    "tags": []
   },
   "outputs": [],
   "source": [
    "y_pred = rfr.predict(X_test)"
   ]
  },
  {
   "cell_type": "code",
   "execution_count": 18,
   "id": "75695c17",
   "metadata": {
    "execution": {
     "iopub.execute_input": "2024-03-19T15:29:58.128273Z",
     "iopub.status.busy": "2024-03-19T15:29:58.127831Z",
     "iopub.status.idle": "2024-03-19T15:29:58.137586Z",
     "shell.execute_reply": "2024-03-19T15:29:58.135437Z"
    },
    "papermill": {
     "duration": 0.029451,
     "end_time": "2024-03-19T15:29:58.140601",
     "exception": false,
     "start_time": "2024-03-19T15:29:58.111150",
     "status": "completed"
    },
    "tags": []
   },
   "outputs": [
    {
     "name": "stdout",
     "output_type": "stream",
     "text": [
      "Mean Squared Error: 1.2933397529909412\n"
     ]
    }
   ],
   "source": [
    "from sklearn.metrics import mean_squared_error\n",
    "mse = np.sqrt(mean_squared_error(y_test, y_pred))\n",
    "print(\"Mean Squared Error:\", mse)"
   ]
  },
  {
   "cell_type": "markdown",
   "id": "f6fd3fe4",
   "metadata": {
    "papermill": {
     "duration": 0.014635,
     "end_time": "2024-03-19T15:29:58.170198",
     "exception": false,
     "start_time": "2024-03-19T15:29:58.155563",
     "status": "completed"
    },
    "tags": []
   },
   "source": [
    "## XGB Regressor"
   ]
  },
  {
   "cell_type": "code",
   "execution_count": 19,
   "id": "02919fce",
   "metadata": {
    "execution": {
     "iopub.execute_input": "2024-03-19T15:29:58.200432Z",
     "iopub.status.busy": "2024-03-19T15:29:58.199996Z",
     "iopub.status.idle": "2024-03-19T15:29:58.589538Z",
     "shell.execute_reply": "2024-03-19T15:29:58.588547Z"
    },
    "papermill": {
     "duration": 0.408624,
     "end_time": "2024-03-19T15:29:58.593144",
     "exception": false,
     "start_time": "2024-03-19T15:29:58.184520",
     "status": "completed"
    },
    "tags": []
   },
   "outputs": [
    {
     "name": "stdout",
     "output_type": "stream",
     "text": [
      "Mean Squared Error: 1.5820391731446084\n"
     ]
    }
   ],
   "source": [
    "from xgboost import XGBRegressor\n",
    "xgbr = XGBRegressor(n_estimators=100, random_state=42)\n",
    "xgbr.fit(X_train, y_train)\n",
    "\n",
    "# Model Evaluation\n",
    "y_pred2 = xgbr.predict(X_test)\n",
    "mse =np.sqrt( mean_squared_error(y_test, y_pred2))\n",
    "print(\"Mean Squared Error:\", mse)"
   ]
  },
  {
   "cell_type": "markdown",
   "id": "10df3ff1",
   "metadata": {
    "papermill": {
     "duration": 0.015012,
     "end_time": "2024-03-19T15:29:58.625814",
     "exception": false,
     "start_time": "2024-03-19T15:29:58.610802",
     "status": "completed"
    },
    "tags": []
   },
   "source": [
    "## Linear Regression"
   ]
  },
  {
   "cell_type": "code",
   "execution_count": 20,
   "id": "31cd5546",
   "metadata": {
    "execution": {
     "iopub.execute_input": "2024-03-19T15:29:58.657956Z",
     "iopub.status.busy": "2024-03-19T15:29:58.657528Z",
     "iopub.status.idle": "2024-03-19T15:29:58.696376Z",
     "shell.execute_reply": "2024-03-19T15:29:58.695162Z"
    },
    "papermill": {
     "duration": 0.058092,
     "end_time": "2024-03-19T15:29:58.699214",
     "exception": false,
     "start_time": "2024-03-19T15:29:58.641122",
     "status": "completed"
    },
    "tags": []
   },
   "outputs": [
    {
     "name": "stdout",
     "output_type": "stream",
     "text": [
      "Mean Squared Error: 1.5942471691143587\n"
     ]
    }
   ],
   "source": [
    "from sklearn.linear_model import LinearRegression\n",
    "lr = LinearRegression()\n",
    "lr.fit(X_train, y_train)\n",
    "\n",
    "# Model Evaluation\n",
    "y_pred3 = lr.predict(X_test)\n",
    "mse = np.sqrt(mean_squared_error(y_test, y_pred3))\n",
    "print(\"Mean Squared Error:\", mse)"
   ]
  },
  {
   "cell_type": "markdown",
   "id": "08f014c2",
   "metadata": {
    "papermill": {
     "duration": 0.013996,
     "end_time": "2024-03-19T15:29:58.728599",
     "exception": false,
     "start_time": "2024-03-19T15:29:58.714603",
     "status": "completed"
    },
    "tags": []
   },
   "source": [
    "## Visualization of the best model"
   ]
  },
  {
   "cell_type": "code",
   "execution_count": 21,
   "id": "0d33ab99",
   "metadata": {
    "execution": {
     "iopub.execute_input": "2024-03-19T15:29:58.759899Z",
     "iopub.status.busy": "2024-03-19T15:29:58.759215Z",
     "iopub.status.idle": "2024-03-19T15:29:58.768273Z",
     "shell.execute_reply": "2024-03-19T15:29:58.766410Z"
    },
    "papermill": {
     "duration": 0.028898,
     "end_time": "2024-03-19T15:29:58.771965",
     "exception": false,
     "start_time": "2024-03-19T15:29:58.743067",
     "status": "completed"
    },
    "tags": []
   },
   "outputs": [],
   "source": [
    "visualization = pd.DataFrame({'Models':['rfr','xgbr','lr'],\"MSR\":[np.sqrt(mean_squared_error(y_test, y_pred)),\n",
    "                                                               np.sqrt( mean_squared_error(y_test, y_pred2)), np.sqrt(mean_squared_error(y_test, y_pred3))]})"
   ]
  },
  {
   "cell_type": "code",
   "execution_count": 22,
   "id": "3bfc4b72",
   "metadata": {
    "execution": {
     "iopub.execute_input": "2024-03-19T15:29:58.806983Z",
     "iopub.status.busy": "2024-03-19T15:29:58.806526Z",
     "iopub.status.idle": "2024-03-19T15:29:58.818176Z",
     "shell.execute_reply": "2024-03-19T15:29:58.816849Z"
    },
    "papermill": {
     "duration": 0.032752,
     "end_time": "2024-03-19T15:29:58.821225",
     "exception": false,
     "start_time": "2024-03-19T15:29:58.788473",
     "status": "completed"
    },
    "tags": []
   },
   "outputs": [
    {
     "data": {
      "text/html": [
       "<div>\n",
       "<style scoped>\n",
       "    .dataframe tbody tr th:only-of-type {\n",
       "        vertical-align: middle;\n",
       "    }\n",
       "\n",
       "    .dataframe tbody tr th {\n",
       "        vertical-align: top;\n",
       "    }\n",
       "\n",
       "    .dataframe thead th {\n",
       "        text-align: right;\n",
       "    }\n",
       "</style>\n",
       "<table border=\"1\" class=\"dataframe\">\n",
       "  <thead>\n",
       "    <tr style=\"text-align: right;\">\n",
       "      <th></th>\n",
       "      <th>Models</th>\n",
       "      <th>MSR</th>\n",
       "    </tr>\n",
       "  </thead>\n",
       "  <tbody>\n",
       "    <tr>\n",
       "      <th>0</th>\n",
       "      <td>rfr</td>\n",
       "      <td>1.293340</td>\n",
       "    </tr>\n",
       "    <tr>\n",
       "      <th>1</th>\n",
       "      <td>xgbr</td>\n",
       "      <td>1.582039</td>\n",
       "    </tr>\n",
       "    <tr>\n",
       "      <th>2</th>\n",
       "      <td>lr</td>\n",
       "      <td>1.594247</td>\n",
       "    </tr>\n",
       "  </tbody>\n",
       "</table>\n",
       "</div>"
      ],
      "text/plain": [
       "  Models       MSR\n",
       "0    rfr  1.293340\n",
       "1   xgbr  1.582039\n",
       "2     lr  1.594247"
      ]
     },
     "execution_count": 22,
     "metadata": {},
     "output_type": "execute_result"
    }
   ],
   "source": [
    "visualization"
   ]
  },
  {
   "cell_type": "code",
   "execution_count": 23,
   "id": "7cec05a4",
   "metadata": {
    "execution": {
     "iopub.execute_input": "2024-03-19T15:29:58.852826Z",
     "iopub.status.busy": "2024-03-19T15:29:58.852347Z",
     "iopub.status.idle": "2024-03-19T15:29:59.154153Z",
     "shell.execute_reply": "2024-03-19T15:29:59.152930Z"
    },
    "papermill": {
     "duration": 0.320891,
     "end_time": "2024-03-19T15:29:59.156894",
     "exception": false,
     "start_time": "2024-03-19T15:29:58.836003",
     "status": "completed"
    },
    "tags": []
   },
   "outputs": [
    {
     "data": {
      "text/plain": [
       "<Axes: xlabel='Models', ylabel='MSR'>"
      ]
     },
     "execution_count": 23,
     "metadata": {},
     "output_type": "execute_result"
    },
    {
     "data": {
      "image/png": "[encoded data removed]",
      "text/plain": [
       "<Figure size 640x480 with 1 Axes>"
      ]
     },
     "metadata": {},
     "output_type": "display_data"
    }
   ],
   "source": [
    "sns.barplot(x= visualization[\"Models\"], y= visualization[\"MSR\"])"
   ]
  },
  {
   "cell_type": "markdown",
   "id": "2f7a1cec",
   "metadata": {
    "papermill": {
     "duration": 0.015605,
     "end_time": "2024-03-19T15:29:59.187462",
     "exception": false,
     "start_time": "2024-03-19T15:29:59.171857",
     "status": "completed"
    },
    "tags": []
   },
   "source": [
    "## As we can see that in this graph the least Mean_Squared_Error is of RandomForestClassifier"
   ]
  },
  {
   "cell_type": "code",
   "execution_count": null,
   "id": "0164a1c6",
   "metadata": {
    "papermill": {
     "duration": 0.01531,
     "end_time": "2024-03-19T15:29:59.219193",
     "exception": false,
     "start_time": "2024-03-19T15:29:59.203883",
     "status": "completed"
    },
    "tags": []
   },
   "outputs": [],
   "source": []
  }
 ],
 "metadata": {
  "kaggle": {
   "accelerator": "none",
   "dataSources": [
    {
     "datasetId": 4629612,
     "sourceId": 7886430,
     "sourceType": "datasetVersion"
    }
   ],
   "dockerImageVersionId": 30664,
   "isGpuEnabled": false,
   "isInternetEnabled": true,
   "language": "python",
   "sourceType": "notebook"
  },
  "kernelspec": {
   "display_name": "Python 3",
   "language": "python",
   "name": "python3"
  },
  "language_info": {
   "codemirror_mode": {
    "name": "ipython",
    "version": 3
   },
   "file_extension": ".py",
   "mimetype": "text/x-python",
   "name": "python",
   "nbconvert_exporter": "python",
   "pygments_lexer": "ipython3",
   "version": "3.10.13"
  },
  "papermill": {
   "default_parameters": {},
   "duration": 12.938331,
   "end_time": "2024-03-19T15:30:00.059472",
   "environment_variables": {},
   "exception": null,
   "input_path": "__notebook__.ipynb",
   "output_path": "__notebook__.ipynb",
   "parameters": {},
   "start_time": "2024-03-19T15:29:47.121141",
   "version": "2.5.0"
  }
 },
 "nbformat": 4,
 "nbformat_minor": 5
}
